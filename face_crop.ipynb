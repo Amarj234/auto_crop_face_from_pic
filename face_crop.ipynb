{
 "cells": [
  {
   "cell_type": "code",
   "execution_count": null,
   "id": "81d8af20-3cf4-4d85-aed7-f8a5cf749ca9",
   "metadata": {},
   "outputs": [],
   "source": [
    "\n",
    "!pip install mediapipe"
   ]
  },
  {
   "cell_type": "code",
   "execution_count": null,
   "id": "eda1bd63-3719-4c90-993c-325327139cf1",
   "metadata": {},
   "outputs": [
    {
     "name": "stderr",
     "output_type": "stream",
     "text": [
      "I0000 00:00:1746856107.153352  111354 gl_context.cc:369] GL version: 2.1 (2.1 Metal - 89.3), renderer: Apple M2\n",
      "W0000 00:00:1746856107.185536  117453 inference_feedback_manager.cc:114] Feedback manager requires a model with a single signature inference. Disabling support for feedback tensors.\n"
     ]
    },
    {
     "name": "stdout",
     "output_type": "stream",
     "text": [
      "--Return--\n",
      "None\n",
      "> \u001b[0;32m/var/folders/6h/92rvsl096xg4bc5clvzb6q8r0000gn/T/ipykernel_3132/265017139.py\u001b[0m(16)\u001b[0;36mauto_crop_face\u001b[0;34m()\u001b[0m\n",
      "\u001b[0;32m     14 \u001b[0;31m    \u001b[0;31m# Perform face detection\u001b[0m\u001b[0;34m\u001b[0m\u001b[0;34m\u001b[0m\u001b[0m\n",
      "\u001b[0m\u001b[0;32m     15 \u001b[0;31m    \u001b[0mresults\u001b[0m \u001b[0;34m=\u001b[0m \u001b[0mface_detection\u001b[0m\u001b[0;34m.\u001b[0m\u001b[0mprocess\u001b[0m\u001b[0;34m(\u001b[0m\u001b[0mimage\u001b[0m\u001b[0;34m)\u001b[0m\u001b[0;34m\u001b[0m\u001b[0;34m\u001b[0m\u001b[0m\n",
      "\u001b[0m\u001b[0;32m---> 16 \u001b[0;31m    \u001b[0mpdb\u001b[0m\u001b[0;34m.\u001b[0m\u001b[0mset_trace\u001b[0m\u001b[0;34m(\u001b[0m\u001b[0;34m)\u001b[0m\u001b[0;34m\u001b[0m\u001b[0;34m\u001b[0m\u001b[0m\n",
      "\u001b[0m\u001b[0;32m     17 \u001b[0;31m\u001b[0;34m\u001b[0m\u001b[0m\n",
      "\u001b[0m\u001b[0;32m     18 \u001b[0;31m    \u001b[0;31m# Extract the bounding box\u001b[0m\u001b[0;34m\u001b[0m\u001b[0;34m\u001b[0m\u001b[0m\n",
      "\u001b[0m\n"
     ]
    }
   ],
   "source": [
    "import cv2\n",
    "import mediapipe as mp\n",
    "import pdb\n",
    "def auto_crop_face(image_path, output_path=None):\n",
    "    # Initialize face detector\n",
    "    mp_face_detection = mp.solutions.face_detection\n",
    "    face_detection = mp_face_detection.FaceDetection(model_selection=1, min_detection_confidence=0.5)\n",
    "\n",
    "    # Read the image\n",
    "    image = cv2.imread(image_path)\n",
    "    height, width, _ = image.shape\n",
    "    rgb_image = cv2.cvtColor(image, cv2.COLOR_BGR2RGB)\n",
    "\n",
    "    # Perform face detection\n",
    "    results = face_detection.process(image)\n",
    "    pdb.set_trace() \n",
    "    \n",
    "    # Extract the bounding box\n",
    "    # if results.detections:\n",
    "    #     for detection in results.detections:\n",
    "    #         box = detection.location_data.relative_bounding_box\n",
    "    #         x_min = int(box.xmin * width)\n",
    "    #         y_min = int(box.ymin * height)\n",
    "    #         w = int(box.width * width)\n",
    "    #         h = int(box.height * height)\n",
    "\n",
    "    #         # Crop the face\n",
    "    #         face = image[y_min:y_min+h, x_min:x_min+w]\n",
    "\n",
    "    #         # Save or display the cropped face\n",
    "    #         if output_path:\n",
    "    #             cv2.imwrite(output_path, face)\n",
    "    #         else:\n",
    "    #             cv2.imshow(\"Cropped Face\", face)\n",
    "    #             cv2.waitKey(0)\n",
    "    #             cv2.destroyAllWindows()\n",
    "    \n",
    "    # face_detection.close()\n",
    "\n",
    "# Usage example\n",
    "auto_crop_face(\"IMG_2163.jpg\")\n"
   ]
  },
  {
   "cell_type": "code",
   "execution_count": null,
   "id": "1d0c1124-a0c5-4d67-8a76-a05e0ef64c72",
   "metadata": {},
   "outputs": [],
   "source": [
    "# crope multiple face"
   ]
  },
  {
   "cell_type": "code",
   "execution_count": 5,
   "id": "83f1460d-8483-4a23-b98f-49867a39424c",
   "metadata": {},
   "outputs": [
    {
     "name": "stdout",
     "output_type": "stream",
     "text": [
      "Saved: cropped_faces/face_1.jpg\n",
      "Saved: cropped_faces/face_2.jpg\n",
      "Saved: cropped_faces/face_3.jpg\n",
      "Saved: cropped_faces/face_4.jpg\n"
     ]
    },
    {
     "name": "stderr",
     "output_type": "stream",
     "text": [
      "I0000 00:00:1746854312.055044   92506 gl_context.cc:369] GL version: 2.1 (2.1 Metal - 89.3), renderer: Apple M2\n",
      "W0000 00:00:1746854312.078695   99823 inference_feedback_manager.cc:114] Feedback manager requires a model with a single signature inference. Disabling support for feedback tensors.\n"
     ]
    }
   ],
   "source": [
    "import cv2\n",
    "import mediapipe as mp\n",
    "import os\n",
    "\n",
    "def auto_crop_multiple_faces(image_path, output_folder=\"cropped_faces\"):\n",
    "    # Initialize face detector\n",
    "    mp_face_detection = mp.solutions.face_detection\n",
    "    face_detection = mp_face_detection.FaceDetection(model_selection=1, min_detection_confidence=0.5)\n",
    "\n",
    "    # Read the image\n",
    "    image = cv2.imread(image_path)\n",
    "    height, width, _ = image.shape\n",
    "    rgb_image = cv2.cvtColor(image, cv2.COLOR_BGR2RGB)\n",
    "\n",
    "    # Perform face detection\n",
    "    results = face_detection.process(rgb_image)\n",
    "\n",
    "    # Create output directory if it doesn't exist\n",
    "    os.makedirs(output_folder, exist_ok=True)\n",
    "\n",
    "    # Extract and save each detected face\n",
    "    if results.detections:\n",
    "        for i, detection in enumerate(results.detections):\n",
    "            box = detection.location_data.relative_bounding_box\n",
    "            x_min = int(box.xmin * width)\n",
    "            y_min = int(box.ymin * height)\n",
    "            w = int(box.width * width)\n",
    "            h = int(box.height * height)\n",
    "\n",
    "            # Ensure the bounding box is within the image dimensions\n",
    "            x_min = max(0, x_min)\n",
    "            y_min = max(0, y_min)\n",
    "            x_max = min(width, x_min + w)\n",
    "            y_max = min(height, y_min + h)\n",
    "\n",
    "            # Crop the face\n",
    "            face = image[y_min:y_max, x_min:x_max]\n",
    "\n",
    "            # Save the cropped face\n",
    "            face_filename = os.path.join(output_folder, f\"face_{i+1}.jpg\")\n",
    "            cv2.imwrite(face_filename, face)\n",
    "            print(f\"Saved: {face_filename}\")\n",
    "\n",
    "    face_detection.close()\n",
    "\n",
    "# Usage example\n",
    "auto_crop_multiple_faces(\"IMG_2163.jpg\")\n"
   ]
  },
  {
   "cell_type": "code",
   "execution_count": null,
   "id": "4c5ae00d-4938-4c0d-a197-e2cb4eea2f84",
   "metadata": {},
   "outputs": [],
   "source": []
  }
 ],
 "metadata": {
  "kernelspec": {
   "display_name": "Python [conda env:base] *",
   "language": "python",
   "name": "conda-base-py"
  },
  "language_info": {
   "codemirror_mode": {
    "name": "ipython",
    "version": 3
   },
   "file_extension": ".py",
   "mimetype": "text/x-python",
   "name": "python",
   "nbconvert_exporter": "python",
   "pygments_lexer": "ipython3",
   "version": "3.12.7"
  }
 },
 "nbformat": 4,
 "nbformat_minor": 5
}
